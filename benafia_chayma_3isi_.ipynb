{
  "cells": [
    {
      "cell_type": "markdown",
      "metadata": {
        "id": "view-in-github",
        "colab_type": "text"
      },
      "source": [
        "<a href=\"https://colab.research.google.com/github/ChaymaBA/badge-TAV-it-/blob/main/benafia_chayma_3isi_.ipynb\" target=\"_parent\"><img src=\"https://colab.research.google.com/assets/colab-badge.svg\" alt=\"Open In Colab\"/></a>"
      ]
    },
    {
      "cell_type": "code",
      "execution_count": null,
      "metadata": {
        "id": "qA26mu44hf2V"
      },
      "outputs": [],
      "source": [
        "import pandas as pd\n",
        "import numpy as np\n",
        "import matplotlib.pyplot as plt\n",
        "import seaborn as sns\n",
        "from sklearn.impute import KNNImputer\n",
        "from sklearn.preprocessing import LabelEncoder, StandardScaler\n",
        "from sklearn.model_selection import train_test_split, GridSearchCV\n",
        "from sklearn.svm import SVC\n",
        "from sklearn.tree import DecisionTreeClassifier\n",
        "from sklearn.neighbors import KNeighborsClassifier\n",
        "from sklearn.neural_network import MLPClassifier\n",
        "from sklearn.metrics import classification_report, f1_score, recall_score, precision_score\n",
        "\n",
        "\n",
        "train_data = pd.read_csv('/content/titanic_train.csv')\n",
        "test_data = pd.read_csv('/content/titanic_test.csv')"
      ]
    },
    {
      "cell_type": "code",
      "execution_count": null,
      "metadata": {
        "id": "ujQXIW_xwr31",
        "colab": {
          "base_uri": "https://localhost:8080/"
        },
        "outputId": "904b9e41-9cc2-45c3-f1d6-d27a62c96e57"
      },
      "outputs": [
        {
          "output_type": "stream",
          "name": "stdout",
          "text": [
            "   PassengerId  Survived  Pclass  \\\n",
            "0            1         0       3   \n",
            "1            2         1       1   \n",
            "2            3         1       3   \n",
            "3            4         1       1   \n",
            "4            5         0       3   \n",
            "\n",
            "                                                Name     Sex   Age  SibSp  \\\n",
            "0                            Braund, Mr. Owen Harris    male  22.0      1   \n",
            "1  Cumings, Mrs. John Bradley (Florence Briggs Th...  female  38.0      1   \n",
            "2                             Heikkinen, Miss. Laina  female  26.0      0   \n",
            "3       Futrelle, Mrs. Jacques Heath (Lily May Peel)  female  35.0      1   \n",
            "4                           Allen, Mr. William Henry    male  35.0      0   \n",
            "\n",
            "   Parch            Ticket     Fare Cabin Embarked  \n",
            "0      0         A/5 21171   7.2500   NaN        S  \n",
            "1      0          PC 17599  71.2833   C85        C  \n",
            "2      0  STON/O2. 3101282   7.9250   NaN        S  \n",
            "3      0            113803  53.1000  C123        S  \n",
            "4      0            373450   8.0500   NaN        S  \n",
            "<class 'pandas.core.frame.DataFrame'>\n",
            "RangeIndex: 891 entries, 0 to 890\n",
            "Data columns (total 12 columns):\n",
            " #   Column       Non-Null Count  Dtype  \n",
            "---  ------       --------------  -----  \n",
            " 0   PassengerId  891 non-null    int64  \n",
            " 1   Survived     891 non-null    int64  \n",
            " 2   Pclass       891 non-null    int64  \n",
            " 3   Name         891 non-null    object \n",
            " 4   Sex          891 non-null    object \n",
            " 5   Age          714 non-null    float64\n",
            " 6   SibSp        891 non-null    int64  \n",
            " 7   Parch        891 non-null    int64  \n",
            " 8   Ticket       891 non-null    object \n",
            " 9   Fare         891 non-null    float64\n",
            " 10  Cabin        204 non-null    object \n",
            " 11  Embarked     889 non-null    object \n",
            "dtypes: float64(2), int64(5), object(5)\n",
            "memory usage: 83.7+ KB\n",
            "None\n",
            "       PassengerId    Survived      Pclass         Age       SibSp  \\\n",
            "count   891.000000  891.000000  891.000000  714.000000  891.000000   \n",
            "mean    446.000000    0.383838    2.308642   29.699118    0.523008   \n",
            "std     257.353842    0.486592    0.836071   14.526497    1.102743   \n",
            "min       1.000000    0.000000    1.000000    0.420000    0.000000   \n",
            "25%     223.500000    0.000000    2.000000   20.125000    0.000000   \n",
            "50%     446.000000    0.000000    3.000000   28.000000    0.000000   \n",
            "75%     668.500000    1.000000    3.000000   38.000000    1.000000   \n",
            "max     891.000000    1.000000    3.000000   80.000000    8.000000   \n",
            "\n",
            "            Parch        Fare  \n",
            "count  891.000000  891.000000  \n",
            "mean     0.381594   32.204208  \n",
            "std      0.806057   49.693429  \n",
            "min      0.000000    0.000000  \n",
            "25%      0.000000    7.910400  \n",
            "50%      0.000000   14.454200  \n",
            "75%      0.000000   31.000000  \n",
            "max      6.000000  512.329200  \n",
            "PassengerId      int64\n",
            "Survived         int64\n",
            "Pclass           int64\n",
            "Name            object\n",
            "Sex             object\n",
            "Age            float64\n",
            "SibSp            int64\n",
            "Parch            int64\n",
            "Ticket          object\n",
            "Fare           float64\n",
            "Cabin           object\n",
            "Embarked        object\n",
            "dtype: object\n"
          ]
        }
      ],
      "source": [
        "print(train_data.head())\n",
        "print(train_data.info())\n",
        "print(train_data.describe())\n",
        "print(train_data.dtypes)"
      ]
    },
    {
      "cell_type": "code",
      "execution_count": null,
      "metadata": {
        "colab": {
          "base_uri": "https://localhost:8080/"
        },
        "id": "_wackwsFw__r",
        "outputId": "aa378262-7874-47aa-a46f-a510eb9f1ce2"
      },
      "outputs": [
        {
          "output_type": "stream",
          "name": "stdout",
          "text": [
            "PassengerId      0\n",
            "Survived         0\n",
            "Pclass           0\n",
            "Name             0\n",
            "Sex              0\n",
            "Age            177\n",
            "SibSp            0\n",
            "Parch            0\n",
            "Ticket           0\n",
            "Fare             0\n",
            "Cabin          687\n",
            "Embarked         2\n",
            "dtype: int64\n"
          ]
        }
      ],
      "source": [
        "missing_values = train_data.isnull().sum()\n",
        "print(missing_values)"
      ]
    },
    {
      "cell_type": "code",
      "execution_count": null,
      "metadata": {
        "colab": {
          "base_uri": "https://localhost:8080/"
        },
        "id": "YiGj-Ak7xE-N",
        "outputId": "cd6d0a1a-c306-4041-a535-00e558afc144"
      },
      "outputs": [
        {
          "output_type": "stream",
          "name": "stdout",
          "text": [
            "PassengerId    891\n",
            "Survived         2\n",
            "Pclass           3\n",
            "Name           891\n",
            "Sex              2\n",
            "Age             88\n",
            "SibSp            7\n",
            "Parch            7\n",
            "Ticket         681\n",
            "Fare           248\n",
            "Cabin          147\n",
            "Embarked         3\n",
            "dtype: int64\n"
          ]
        }
      ],
      "source": [
        "unique_values = train_data.nunique()\n",
        "print(unique_values)"
      ]
    },
    {
      "cell_type": "code",
      "execution_count": null,
      "metadata": {
        "colab": {
          "base_uri": "https://localhost:8080/",
          "height": 699
        },
        "id": "NV7sR5B4xcU4",
        "outputId": "831bd792-9cdf-4625-d03e-63ff3d59263a"
      },
      "outputs": [
        {
          "output_type": "display_data",
          "data": {
            "text/plain": [
              "<Figure size 1000x800 with 2 Axes>"
            ],
            "image/png": "[encoded data removed]"
          },
          "metadata": {}
        }
      ],
      "source": [
        "train_data = pd.read_csv('titanic_train.csv')\n",
        "\n",
        "# Sélectionner uniquement les colonnes numériques\n",
        "numerical_data = train_data.select_dtypes(include=['float64', 'int64'])\n",
        "\n",
        "# Matrice de corrélation\n",
        "correlation_matrix = numerical_data.corr()\n",
        "\n",
        "# Visualisation avec heatmap\n",
        "plt.figure(figsize=(10, 8))\n",
        "sns.heatmap(correlation_matrix, annot=True, cmap='coolwarm', fmt=\".2f\")\n",
        "plt.title('Heatmap de corrélation')\n",
        "plt.show()"
      ]
    },
    {
      "cell_type": "code",
      "source": [
        "# 1. Suppression des colonnes non pertinentes\n",
        "columns_to_drop = ['PassengerId', 'Name', 'Ticket', 'Cabin']\n",
        "train_processed = train_data.drop(columns=columns_to_drop)\n",
        "test_processed = test_data.drop(columns=columns_to_drop)\n",
        "# 2. Gestion des valeurs manquantes avec KNNImputer\n",
        "imputer = KNNImputer(n_neighbors=5)\n",
        "numeric_columns = ['Age', 'Fare']\n",
        "for dataset in [train_processed, test_processed]:\n",
        "    dataset[numeric_columns] = imputer.fit_transform(dataset[numeric_columns])\n",
        "# 2.encodage le colone categorique\n",
        "le_sex = LabelEncoder()\n",
        "le_embarked = LabelEncoder()\n",
        "for dataset in [train_processed, test_processed]:\n",
        "    dataset['Sex'] = le_sex.fit_transform(dataset['Sex'].astype(str))\n",
        "    dataset['Embarked'] = le_embarked.fit_transform(dataset['Embarked'].fillna('S'))\n",
        "# 3. Encodage des colonnes catégoriques\n",
        "le_sex = LabelEncoder()\n",
        "le_embarked = LabelEncoder()\n",
        "for dataset in [train_processed, test_processed]:\n",
        "    dataset['Sex'] = le_sex.fit_transform(dataset['Sex'].astype(str))\n",
        "    dataset['Embarked'] = le_embarked.fit_transform(dataset['Embarked'].fillna('S'))\n",
        "\n",
        "# 4. Normalisation des colonnes numériques\n",
        "scaler = StandardScaler()\n",
        "for dataset in [train_processed, test_processed]:\n",
        "    dataset[numeric_columns] = scaler.fit_transform(dataset[numeric_columns])\n",
        "\n",
        "# 5. Préparation des variables explicatives et cibles\n",
        "X = train_processed.drop('Survived', axis=1)\n",
        "y = train_processed['Survived']\n",
        "X_test_final = test_processed\n",
        "X_train, X_test, y_train, y_test = train_test_split(X, y, test_size=0.2, random_state=42)\n",
        "models = {\n",
        "    #SVM\n",
        "    'SVM': {\n",
        "        'model': SVC(),\n",
        "        'params': {\n",
        "            'C': [0.1, 1, 10],\n",
        "            'kernel': ['linear', 'rbf']\n",
        "        }\n",
        "    },\n",
        "    #arebre de desiosion\n",
        "    'Decision Tree': {\n",
        "        'model': DecisionTreeClassifier(),\n",
        "        'params': {\n",
        "            'max_depth': [3, 5, 10],\n",
        "            'min_samples_split': [2, 5]\n",
        "        }\n",
        "    },\n",
        "    #KNN\n",
        "    'KNN': {\n",
        "        'model': KNeighborsClassifier(),\n",
        "        'params': {\n",
        "            'n_neighbors': [3, 5, 7],\n",
        "            'metric': ['euclidean', 'manhattan']\n",
        "        }\n",
        "    },\n",
        "    #reseau de neurones \n",
        "    'Neural Network': {\n",
        "        'model': MLPClassifier(max_iter=1000),\n",
        "        'params': {\n",
        "            'hidden_layer_sizes': [(3,), (6,), (10,)]\n",
        "        }\n",
        "    }\n",
        "}\n",
        "# Entraînement et validation croisée\n",
        "best_models = {}\n",
        "best_scores = {}\n",
        "\n",
        "for name, model_info in models.items():\n",
        "    print(f\"\\nEntraînement du modèle {name}...\")\n",
        "    grid = GridSearchCV(model_info['model'], model_info['params'], cv=5, scoring='accuracy', n_jobs=-1)\n",
        "    grid.fit(X_train, y_train)\n",
        "\n",
        "    best_models[name] = grid.best_estimator_\n",
        "    best_scores[name] = grid.best_score_\n",
        "\n",
        "    print(f\"Meilleurs paramètres : {grid.best_params_}\")\n",
        "    print(f\"Score de validation croisée : {grid.best_score_:.4f}\")\n"
      ],
      "metadata": {
        "colab": {
          "base_uri": "https://localhost:8080/"
        },
        "id": "J8TItWKLVnPK",
        "outputId": "2491c61f-417f-4364-f148-367a94bbb91c"
      },
      "execution_count": null,
      "outputs": [
        {
          "output_type": "stream",
          "name": "stdout",
          "text": [
            "\n",
            "Entraînement du modèle SVM...\n",
            "Meilleurs paramètres : {'C': 10, 'kernel': 'rbf'}\n",
            "Score de validation croisée : 0.8202\n",
            "\n",
            "Entraînement du modèle Decision Tree...\n",
            "Meilleurs paramètres : {'max_depth': 3, 'min_samples_split': 2}\n",
            "Score de validation croisée : 0.8188\n",
            "\n",
            "Entraînement du modèle KNN...\n",
            "Meilleurs paramètres : {'metric': 'manhattan', 'n_neighbors': 3}\n",
            "Score de validation croisée : 0.7963\n",
            "\n",
            "Entraînement du modèle Neural Network...\n",
            "Meilleurs paramètres : {'hidden_layer_sizes': (10,)}\n",
            "Score de validation croisée : 0.8047\n"
          ]
        }
      ]
    },
    {
      "cell_type": "code",
      "source": [
        "best_model_name = max(best_scores, key=best_scores.get)\n",
        "best_model = best_models[best_model_name]\n",
        "print(f\"\\nMeilleur modèle : {best_model_name}\")\n",
        "print(f\"Score : {best_scores[best_model_name]:.4f}\")\n",
        "\n",
        "# Évaluation finale sur l'ensemble de test\n",
        "y_pred = best_model.predict(X_test)\n",
        "\n",
        "# Calcul des métriques demandées\n",
        "f1 = f1_score(y_test, y_pred)\n",
        "recall = recall_score(y_test, y_pred)\n",
        "precision = precision_score(y_test, y_pred)\n",
        "\n",
        "print(\"\\nÉvaluation finale des performances :\")\n",
        "print(f\"F1-Score : {f1:.4f}\")\n",
        "print(f\"Recall : {recall:.4f}\")\n",
        "print(f\"Precision : {precision:.4f}\")\n",
        "\n",
        "print(\"\\nRapport de classification :\")\n",
        "print(classification_report(y_test, y_pred))\n",
        "\n",
        "# Prédictions sur les données de test finales (Titanic Test)\n",
        "predictions = best_model.predict(X_test_final)\n"
      ],
      "metadata": {
        "colab": {
          "base_uri": "https://localhost:8080/"
        },
        "id": "2zXXg2eAcP8-",
        "outputId": "21d800ff-8d6c-4296-d9b7-d16b643519c0"
      },
      "execution_count": null,
      "outputs": [
        {
          "output_type": "stream",
          "name": "stdout",
          "text": [
            "\n",
            "Meilleur modèle : SVM\n",
            "Score : 0.8202\n",
            "\n",
            "Évaluation finale des performances :\n",
            "F1-Score : 0.7626\n",
            "Recall : 0.7162\n",
            "Precision : 0.8154\n",
            "\n",
            "Rapport de classification :\n",
            "              precision    recall  f1-score   support\n",
            "\n",
            "           0       0.82      0.89      0.85       105\n",
            "           1       0.82      0.72      0.76        74\n",
            "\n",
            "    accuracy                           0.82       179\n",
            "   macro avg       0.82      0.80      0.81       179\n",
            "weighted avg       0.82      0.82      0.81       179\n",
            "\n"
          ]
        }
      ]
    },
    {
      "cell_type": "code",
      "source": [
        "# Vérifier les colonnes manquantes entre X_train et X_test_final\n",
        "missing_cols = set(X_train.columns) - set(X_test_final.columns)\n",
        "if missing_cols:\n",
        "    print(f\"Colonnes manquantes dans les données de test : {missing_cols}\")\n",
        "    raise ValueError(\"Les colonnes du jeu de données de test ne correspondent pas à celles du modèle.\")\n",
        "\n",
        "# Réordonner les colonnes du jeu de données de test pour correspondre à X_train\n",
        "X_test_final = X_test_final[X_train.columns]\n",
        "\n",
        "# Prédictions sur les données de test finales (Titanic Test)\n",
        "predictions = best_model.predict(X_test_final)\n",
        "\n",
        "# Ajouter les prédictions au DataFrame des données de test\n",
        "result = pd.DataFrame({\n",
        "    'PassengerId': test_data['PassengerId'],\n",
        "    'Survived': predictions\n",
        "})\n",
        "\n",
        "# Enregistrer les résultats dans un fichier CSV\n",
        "result.to_csv('benafia_chayma_3isi.csv', index=False)\n",
        "print(\"Fichier des résultats enregistré avec succès.\")\n"
      ],
      "metadata": {
        "colab": {
          "base_uri": "https://localhost:8080/"
        },
        "collapsed": true,
        "id": "CTkAuiNrcmY9",
        "outputId": "dfb229eb-cf37-4124-9885-c40480665bf2"
      },
      "execution_count": null,
      "outputs": [
        {
          "output_type": "stream",
          "name": "stdout",
          "text": [
            "Fichier des résultats enregistré avec succès.\n"
          ]
        }
      ]
    },
    {
      "cell_type": "code",
      "source": [],
      "metadata": {
        "id": "sWhvOq_33f4d"
      },
      "execution_count": null,
      "outputs": []
    }
  ],
  "metadata": {
    "colab": {
      "provenance": [],
      "authorship_tag": "ABX9TyNgzR3u46iMkeYXaKF3IHfO",
      "include_colab_link": true
    },
    "kernelspec": {
      "display_name": "Python 3",
      "name": "python3"
    },
    "language_info": {
      "name": "python"
    }
  },
  "nbformat": 4,
  "nbformat_minor": 0
}
